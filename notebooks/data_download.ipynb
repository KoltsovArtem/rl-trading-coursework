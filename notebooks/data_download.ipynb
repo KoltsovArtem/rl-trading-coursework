{
 "cells": [
  {
   "cell_type": "code",
   "execution_count": 1,
   "id": "fd4fd4c3-cb80-4ad4-b2e8-149216ce3b68",
   "metadata": {},
   "outputs": [
    {
     "name": "stdout",
     "output_type": "stream",
     "text": [
      "YF.download() has changed argument auto_adjust default to True\n",
      "AAPL saved: (3773, 5)\n",
      "AAPL saved, rows: 4025\n",
      "MSFT saved, rows: 4025\n",
      "JPM saved, rows: 4025\n",
      "V saved, rows: 4025\n",
      "PG saved, rows: 4025\n",
      "KO saved, rows: 4025\n",
      "CSCO saved, rows: 4025\n",
      "INTC saved, rows: 4025\n",
      "UNH saved, rows: 4025\n",
      "TRV saved, rows: 4025\n",
      "MRK saved, rows: 4025\n",
      "VZ saved, rows: 4025\n",
      "WBA saved, rows: 4025\n",
      "CAT saved, rows: 4025\n",
      "BA saved, rows: 4025\n",
      "WMT saved, rows: 4025\n",
      "DIS saved, rows: 4025\n",
      "HD saved, rows: 4025\n",
      "CRM saved, rows: 4025\n",
      "AXP saved, rows: 4025\n",
      "CVX saved, rows: 4025\n",
      "GS saved, rows: 4025\n",
      "IBM saved, rows: 4025\n",
      "JNJ saved, rows: 4025\n",
      "MCD saved, rows: 4025\n",
      "MMM saved, rows: 4025\n",
      "NKE saved, rows: 4025\n",
      "PFE saved, rows: 4025\n",
      "RTX saved, rows: 4025\n",
      "TRV saved, rows: 4025\n"
     ]
    }
   ],
   "source": [
    "import yfinance as yf\n",
    "import pandas as pd\n",
    "import os\n",
    "\n",
    "# 1) Гарантируем, что папки data/ и data/djia/ существуют\n",
    "os.makedirs(\"../data\", exist_ok=True)\n",
    "os.makedirs(\"../data/djia\", exist_ok=True)\n",
    "\n",
    "# 2) Скачиваем данные по одной акции AAPL (2010–2024) и сохраняем в CSV\n",
    "ticker = \"AAPL\"\n",
    "df_aapl = yf.download(ticker, start=\"2010-01-01\", end=\"2024-12-31\", progress=False)\n",
    "df_aapl.to_csv(\"../data/AAPL_2010_2024.csv\")\n",
    "print(\"AAPL saved:\", df_aapl.shape)\n",
    "\n",
    "# 3) Задаём список тикеров DJIA-30\n",
    "djia_tickers = [\n",
    "    \"AAPL\", \"MSFT\", \"JPM\", \"V\", \"PG\", \"KO\", \"CSCO\", \"INTC\", \"UNH\", \"TRV\",\n",
    "    \"MRK\", \"VZ\", \"WBA\", \"CAT\", \"BA\", \"WMT\", \"DIS\", \"HD\", \"CRM\", \"AXP\",\n",
    "    \"CVX\", \"GS\", \"IBM\", \"JNJ\", \"MCD\", \"MMM\", \"NKE\", \"PFE\", \"RTX\", \"TRV\"\n",
    "]\n",
    "# Если список смещён: проверьте актуальный состав DJIA-30 через Википедию и замените.\n",
    "\n",
    "# 4) Для каждого тикера скачиваем исторические данные (2009–2024) и сохраняем\n",
    "for t in djia_tickers:\n",
    "    df = yf.download(t, start=\"2009-01-01\", end=\"2024-12-31\", progress=False)\n",
    "    path = f\"../data/djia/{t}_2009_2024.csv\"\n",
    "    df.to_csv(path)\n",
    "    print(f\"{t} saved, rows:\", df.shape[0])\n"
   ]
  },
  {
   "cell_type": "code",
   "id": "4f6b7a30-8070-4a32-a896-641dfbecec94",
   "metadata": {
    "ExecuteTime": {
     "end_time": "2025-06-05T21:23:39.202931Z",
     "start_time": "2025-06-05T21:23:38.100127Z"
    }
   },
   "source": [
    "import yfinance as yf\n",
    "import pandas as pd\n",
    "import os\n",
    "\n",
    "# 1) Гарантируем, что папки data/ и data/djia/ существуют\n",
    "os.makedirs(\"../data\", exist_ok=True)\n",
    "os.makedirs(\"../data/djia\", exist_ok=True)\n",
    "\n",
    "# 2) Скачиваем данные по одной акции AAPL (2010–2024) и сохраняем в CSV\n",
    "ticker = \"AAPL\"\n",
    "df_aapl = yf.download(ticker, start=\"2010-01-01\", end=\"2024-12-31\", progress=False)\n",
    "df_aapl.to_csv(\"../data/AAPL_2010_2024.csv\")\n",
    "print(\"AAPL saved:\", df_aapl.shape)\n",
    "\n",
    "# 3) Задаём список тикеров DJIA-30\n",
    "djia_tickers = [\n",
    "    \"XOM\"\n",
    "]\n",
    "# Если список смещён: проверьте актуальный состав DJIA-30 через Википедию и замените.\n",
    "\n",
    "# 4) Для каждого тикера скачиваем исторические данные (2009–2024) и сохраняем\n",
    "for t in djia_tickers:\n",
    "    df = yf.download(t, start=\"2009-01-01\", end=\"2024-12-31\", progress=False)\n",
    "    path = f\"../data/djia/{t}_2009_2024.csv\"\n",
    "    df.to_csv(path)\n",
    "    print(f\"{t} saved, rows:\", df.shape[0])\n"
   ],
   "outputs": [
    {
     "name": "stdout",
     "output_type": "stream",
     "text": [
      "AAPL saved: (3773, 5)\n",
      "XOM saved, rows: 4025\n"
     ]
    }
   ],
   "execution_count": 3
  },
  {
   "metadata": {},
   "cell_type": "code",
   "outputs": [],
   "execution_count": null,
   "source": "",
   "id": "f611a80e9ab061f"
  }
 ],
 "metadata": {
  "kernelspec": {
   "display_name": "Python 3 (ipykernel)",
   "language": "python",
   "name": "python3"
  },
  "language_info": {
   "codemirror_mode": {
    "name": "ipython",
    "version": 3
   },
   "file_extension": ".py",
   "mimetype": "text/x-python",
   "name": "python",
   "nbconvert_exporter": "python",
   "pygments_lexer": "ipython3",
   "version": "3.12.3"
  }
 },
 "nbformat": 4,
 "nbformat_minor": 5
}
